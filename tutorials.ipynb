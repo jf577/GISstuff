{
 "cells": [
  {
   "cell_type": "code",
   "execution_count": null,
   "source": [
    "num = int(input(\"Enter a number: \"))\r\n",
    "if (num % 2) == 0:\r\n",
    "    print(\"{0} is even\".format(num))\r\n",
    "else:\r\n",
    "    print(\"{0} is odd\".format(num))"
   ],
   "outputs": [],
   "metadata": {}
  },
  {
   "cell_type": "code",
   "execution_count": 11,
   "source": [
    "# Savings calculator project from pythonprinciples.com/lessons\r\n",
    "# --- Display a greeting ---\r\n",
    "greeting = \"Hello \"\r\n",
    "name = \"Bob\"\r\n",
    "print(greeting + name)\r\n",
    "\r\n",
    "# --- Calculate the yearly income ---\r\n",
    "\r\n",
    "hourly_wage = 30\r\n",
    "hours_per_week = 45\r\n",
    "income_per_week = hourly_wage * hours_per_week\r\n",
    "weeks_per_year = 46\r\n",
    "income_per_year = weeks_per_year * income_per_week\r\n",
    "\r\n",
    "print(name + \"'s yearly income is:\")\r\n",
    "print(income_per_year)\r\n",
    "\r\n",
    "# --- Calculate the yearly spend ---\r\n",
    "spend_per_week = 500\r\n",
    "spend_per_year = spend_per_week * 52\r\n",
    "print(name + \"'s yearly spend is:\")\r\n",
    "print(spend_per_year)\r\n",
    "\r\n",
    "# --- Calculate the yearly savings ---\r\n",
    "savings_per_year = income_per_year - spend_per_year\r\n",
    "print(name + \"'s yearly savings:\")\r\n",
    "print(savings_per_year)"
   ],
   "outputs": [
    {
     "output_type": "stream",
     "name": "stdout",
     "text": [
      "Hello Bob\n",
      "Bob's yearly income is:\n",
      "62100\n",
      "Bob's yearly spend is:\n",
      "26000\n",
      "Bob's yearly savings:\n",
      "36100\n"
     ]
    }
   ],
   "metadata": {}
  }
 ],
 "metadata": {
  "orig_nbformat": 4,
  "language_info": {
   "name": "python",
   "version": "3.9.2",
   "mimetype": "text/x-python",
   "codemirror_mode": {
    "name": "ipython",
    "version": 3
   },
   "pygments_lexer": "ipython3",
   "nbconvert_exporter": "python",
   "file_extension": ".py"
  },
  "kernelspec": {
   "name": "python3",
   "display_name": "Python 3.9.2 64-bit ('geo_env': conda)"
  },
  "interpreter": {
   "hash": "dd91f0b4828dce5d53bdac1582cf88369020ea09ea70cc87beaca0f6a0fe11cd"
  }
 },
 "nbformat": 4,
 "nbformat_minor": 2
}