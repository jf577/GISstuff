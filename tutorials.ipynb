{
 "cells": [
  {
   "cell_type": "code",
   "execution_count": null,
   "source": [
    "num = int(input(\"Enter a number: \"))\r\n",
    "if (num % 2) == 0:\r\n",
    "    print(\"{0} is even\".format(num))\r\n",
    "else:\r\n",
    "    print(\"{0} is odd\".format(num))"
   ],
   "outputs": [],
   "metadata": {}
  }
 ],
 "metadata": {
  "orig_nbformat": 4,
  "language_info": {
   "name": "python"
  }
 },
 "nbformat": 4,
 "nbformat_minor": 2
}