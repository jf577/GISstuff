{
 "cells": [
  {
   "cell_type": "code",
   "execution_count": 1,
   "source": [
    "import folium\r\n",
    "import pandas as pd\r\n",
    "import geopandas as gpd"
   ],
   "outputs": [],
   "metadata": {}
  },
  {
   "cell_type": "code",
   "execution_count": 3,
   "source": [
    "nz_pop = pd.read_csv('../../sa2_nz.csv')\r\n",
    "nz_pop.dropna(axis = 1, how = 'all')\r\n",
    "nz_pop.head(3)"
   ],
   "outputs": [
    {
     "output_type": "execute_result",
     "data": {
      "text/html": [
       "<div>\n",
       "<style scoped>\n",
       "    .dataframe tbody tr th:only-of-type {\n",
       "        vertical-align: middle;\n",
       "    }\n",
       "\n",
       "    .dataframe tbody tr th {\n",
       "        vertical-align: top;\n",
       "    }\n",
       "\n",
       "    .dataframe thead th {\n",
       "        text-align: right;\n",
       "    }\n",
       "</style>\n",
       "<table border=\"1\" class=\"dataframe\">\n",
       "  <thead>\n",
       "    <tr style=\"text-align: right;\">\n",
       "      <th></th>\n",
       "      <th>WKT</th>\n",
       "      <th>SA22018_V1_00</th>\n",
       "      <th>SA22018_V1_00_NAME</th>\n",
       "      <th>LAND_AREA_SQ_KM</th>\n",
       "      <th>AREA_SQ_KM</th>\n",
       "      <th>Shape_Length</th>\n",
       "    </tr>\n",
       "  </thead>\n",
       "  <tbody>\n",
       "    <tr>\n",
       "      <th>0</th>\n",
       "      <td>MULTIPOLYGON (((1638658.1791 6128997.4425,1638...</td>\n",
       "      <td>101000</td>\n",
       "      <td>Oruru-Parapara</td>\n",
       "      <td>103.280728</td>\n",
       "      <td>103.280728</td>\n",
       "      <td>67331.035434</td>\n",
       "    </tr>\n",
       "    <tr>\n",
       "      <th>1</th>\n",
       "      <td>MULTIPOLYGON (((1648130.456 6128680.4369,16481...</td>\n",
       "      <td>101100</td>\n",
       "      <td>Taumarumaru</td>\n",
       "      <td>10.229723</td>\n",
       "      <td>10.229723</td>\n",
       "      <td>30427.141598</td>\n",
       "    </tr>\n",
       "    <tr>\n",
       "      <th>2</th>\n",
       "      <td>MULTIPOLYGON (((1632137.183 6111883.0603,16321...</td>\n",
       "      <td>101200</td>\n",
       "      <td>Herekino-Takahue</td>\n",
       "      <td>303.690918</td>\n",
       "      <td>303.690918</td>\n",
       "      <td>158854.370552</td>\n",
       "    </tr>\n",
       "  </tbody>\n",
       "</table>\n",
       "</div>"
      ],
      "text/plain": [
       "                                                 WKT  SA22018_V1_00  \\\n",
       "0  MULTIPOLYGON (((1638658.1791 6128997.4425,1638...         101000   \n",
       "1  MULTIPOLYGON (((1648130.456 6128680.4369,16481...         101100   \n",
       "2  MULTIPOLYGON (((1632137.183 6111883.0603,16321...         101200   \n",
       "\n",
       "  SA22018_V1_00_NAME  LAND_AREA_SQ_KM  AREA_SQ_KM   Shape_Length  \n",
       "0     Oruru-Parapara       103.280728  103.280728   67331.035434  \n",
       "1        Taumarumaru        10.229723   10.229723   30427.141598  \n",
       "2   Herekino-Takahue       303.690918  303.690918  158854.370552  "
      ]
     },
     "metadata": {},
     "execution_count": 3
    }
   ],
   "metadata": {}
  },
  {
   "cell_type": "code",
   "execution_count": null,
   "source": [],
   "outputs": [],
   "metadata": {}
  },
  {
   "cell_type": "code",
   "execution_count": null,
   "source": [
    "m = folium.Map (location = [41.610, -102.261], zoom_start=3)\r\n",
    "\r\n",
    "folium.Choropleth(\r\n",
    "    geo_data=nz_pop,\r\n",
    "    data=nz_pop,\r\n",
    "    name=\"choropleth\",\r\n",
    "    columns=[\"SA22018_V1_NAME\", \"Pop_Total_2018\"],\r\n",
    "    key_on=\"feature.properties.WKT\",\r\n",
    "    fill_color=\"YlGnBu\",\r\n",
    "    fill_opacity=0.6,\r\n",
    "    line_opacity=0.3,\r\n",
    "    legend_name=\"2018 Population\"\r\n",
    ").add_to(m)\r\n"
   ],
   "outputs": [],
   "metadata": {}
  },
  {
   "cell_type": "code",
   "execution_count": null,
   "source": [],
   "outputs": [],
   "metadata": {}
  }
 ],
 "metadata": {
  "orig_nbformat": 4,
  "language_info": {
   "name": "python",
   "version": "3.9.2",
   "mimetype": "text/x-python",
   "codemirror_mode": {
    "name": "ipython",
    "version": 3
   },
   "pygments_lexer": "ipython3",
   "nbconvert_exporter": "python",
   "file_extension": ".py"
  },
  "kernelspec": {
   "name": "python3",
   "display_name": "Python 3.9.2 64-bit ('geo_env': conda)"
  },
  "interpreter": {
   "hash": "dd91f0b4828dce5d53bdac1582cf88369020ea09ea70cc87beaca0f6a0fe11cd"
  }
 },
 "nbformat": 4,
 "nbformat_minor": 2
}