{
 "cells": [
  {
   "cell_type": "code",
   "execution_count": null,
   "source": [
    "import folium\r\n",
    "import pandas as pd\r\n",
    "import geopandas as gpd"
   ],
   "outputs": [],
   "metadata": {}
  },
  {
   "cell_type": "code",
   "execution_count": null,
   "source": [
    "nz_pop = pd.read_csv('../../2018censuspop.csv')\r\n",
    "nz_pop.dropna(axis = 1, how = 'all')\r\n",
    "nz_pop.head(5)"
   ],
   "outputs": [],
   "metadata": {}
  },
  {
   "cell_type": "code",
   "execution_count": null,
   "source": [
    "m = folium.Map (location = [41.610, -102.261], zoom_start=3)\r\n",
    "\r\n",
    "folium.Choropleth(\r\n",
    "    geo_data=nz_pop,\r\n",
    "    data=nz_pop,\r\n",
    "    name=\"choropleth\",\r\n",
    "    columns=[\"SA22018_V1_NAME\", \"Pop_Total_2018\"],\r\n",
    "    key_on=\"feature.properties.WKT\",\r\n",
    "    fill_color=\"YlGnBu\",\r\n",
    "    fill_opacity=0.6,\r\n",
    "    line_opacity=0.3,\r\n",
    "    legend_name=\"2018 Population\"\r\n",
    ").add_to(m)\r\n"
   ],
   "outputs": [],
   "metadata": {}
  },
  {
   "cell_type": "code",
   "execution_count": null,
   "source": [],
   "outputs": [],
   "metadata": {}
  }
 ],
 "metadata": {
  "orig_nbformat": 4,
  "language_info": {
   "name": "python",
   "version": "3.9.2",
   "mimetype": "text/x-python",
   "codemirror_mode": {
    "name": "ipython",
    "version": 3
   },
   "pygments_lexer": "ipython3",
   "nbconvert_exporter": "python",
   "file_extension": ".py"
  },
  "kernelspec": {
   "name": "python3",
   "display_name": "Python 3.9.2 64-bit ('geo_env': conda)"
  },
  "interpreter": {
   "hash": "dd91f0b4828dce5d53bdac1582cf88369020ea09ea70cc87beaca0f6a0fe11cd"
  }
 },
 "nbformat": 4,
 "nbformat_minor": 2
}