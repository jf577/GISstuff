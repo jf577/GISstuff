{
 "cells": [
  {
   "cell_type": "code",
   "execution_count": null,
   "source": [
    "import folium\r\n",
    "import pandas as pd\r\n",
    "import geopandas as gpd"
   ],
   "outputs": [],
   "metadata": {}
  },
  {
   "cell_type": "code",
   "execution_count": null,
   "source": [
    "nz_pop = gpd.read_file('../../GISData/sa2_nz.csv')\r\n",
    "nz_pop.dropna(axis = 0, how = 'all')\r\n",
    "nz_pop = nz_pop.rename(columns={'SA22018_V1_00':'SA2'})\r\n",
    "nz_pop.head(3)"
   ],
   "outputs": [],
   "metadata": {}
  },
  {
   "cell_type": "code",
   "execution_count": null,
   "source": [
    "travel_work = gpd.read_file('../../GISData/2018worktravel.csv')\r\n",
    "travel_work.dropna(axis = 0, how = 'all')\r\n",
    "travel_work = travel_work.rename(columns={'SA2_code_usual_residence_address':'SA2'})\r\n",
    "# travel_work.drop_duplicates()\r\n",
    "travel_work.head(5)"
   ],
   "outputs": [],
   "metadata": {}
  },
  {
   "cell_type": "code",
   "execution_count": null,
   "source": [
    "# table join\r\n",
    "merged_table = nz_pop.merge(travel_work, on = 'SA2', how = 'left')\r\n",
    "# merged_table.drop_duplicates(keep='first')\r\n",
    "merged_table.head(5)"
   ],
   "outputs": [],
   "metadata": {}
  },
  {
   "cell_type": "code",
   "execution_count": null,
   "source": [
    "m = folium.Map (location = [-40.610, 173.937], zoom_start=5)\r\n",
    "\r\n",
    "folium.Choropleth(\r\n",
    "    geo_data=nz_pop,\r\n",
    "    data=merged_table,\r\n",
    "    name=\"choropleth\",\r\n",
    "    columns=[\"SA2\", \"Total\"],\r\n",
    "    key_on=\"feature.properties.WKT\",\r\n",
    "    fill_color=\"YlGnBu\",\r\n",
    "    fill_opacity=0.6,\r\n",
    "    line_opacity=0.3,\r\n",
    "    legend_name=\"Total Commuters\"\r\n",
    ").add_to(m)\r\n",
    "\r\n",
    "m"
   ],
   "outputs": [],
   "metadata": {}
  },
  {
   "cell_type": "code",
   "execution_count": null,
   "source": [],
   "outputs": [],
   "metadata": {}
  }
 ],
 "metadata": {
  "orig_nbformat": 4,
  "language_info": {
   "name": "python",
   "version": "3.9.2",
   "mimetype": "text/x-python",
   "codemirror_mode": {
    "name": "ipython",
    "version": 3
   },
   "pygments_lexer": "ipython3",
   "nbconvert_exporter": "python",
   "file_extension": ".py"
  },
  "kernelspec": {
   "name": "python3",
   "display_name": "Python 3.9.2 64-bit ('geo_env': conda)"
  },
  "interpreter": {
   "hash": "dd91f0b4828dce5d53bdac1582cf88369020ea09ea70cc87beaca0f6a0fe11cd"
  }
 },
 "nbformat": 4,
 "nbformat_minor": 2
}